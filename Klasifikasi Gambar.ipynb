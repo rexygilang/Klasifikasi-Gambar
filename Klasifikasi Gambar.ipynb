{
 "cells": [
  {
   "cell_type": "code",
   "execution_count": 31,
   "metadata": {
    "colab": {
     "base_uri": "https://localhost:8080/",
     "height": 424
    },
    "id": "tMArQTOWvUr4",
    "outputId": "ee0a3aab-cedd-4356-bc65-4ce33b023857"
   },
   "outputs": [
    {
     "data": {
      "text/html": [
       "\n",
       "  <div id=\"df-5760c3d3-f253-453e-ad3d-f5cf2547b28f\">\n",
       "    <div class=\"colab-df-container\">\n",
       "      <div>\n",
       "<style scoped>\n",
       "    .dataframe tbody tr th:only-of-type {\n",
       "        vertical-align: middle;\n",
       "    }\n",
       "\n",
       "    .dataframe tbody tr th {\n",
       "        vertical-align: top;\n",
       "    }\n",
       "\n",
       "    .dataframe thead th {\n",
       "        text-align: right;\n",
       "    }\n",
       "</style>\n",
       "<table border=\"1\" class=\"dataframe\">\n",
       "  <thead>\n",
       "    <tr style=\"text-align: right;\">\n",
       "      <th></th>\n",
       "      <th>x1</th>\n",
       "      <th>x2</th>\n",
       "      <th>y</th>\n",
       "    </tr>\n",
       "  </thead>\n",
       "  <tbody>\n",
       "    <tr>\n",
       "      <th>0</th>\n",
       "      <td>-0.365057</td>\n",
       "      <td>-0.319084</td>\n",
       "      <td>0.273112</td>\n",
       "    </tr>\n",
       "    <tr>\n",
       "      <th>1</th>\n",
       "      <td>1.915594</td>\n",
       "      <td>0.129009</td>\n",
       "      <td>1.657577</td>\n",
       "    </tr>\n",
       "    <tr>\n",
       "      <th>2</th>\n",
       "      <td>-1.416086</td>\n",
       "      <td>-0.431537</td>\n",
       "      <td>-0.553012</td>\n",
       "    </tr>\n",
       "    <tr>\n",
       "      <th>3</th>\n",
       "      <td>-1.453220</td>\n",
       "      <td>-1.454493</td>\n",
       "      <td>1.455766</td>\n",
       "    </tr>\n",
       "    <tr>\n",
       "      <th>4</th>\n",
       "      <td>1.301988</td>\n",
       "      <td>-0.301599</td>\n",
       "      <td>1.905186</td>\n",
       "    </tr>\n",
       "    <tr>\n",
       "      <th>...</th>\n",
       "      <td>...</td>\n",
       "      <td>...</td>\n",
       "      <td>...</td>\n",
       "    </tr>\n",
       "    <tr>\n",
       "      <th>145</th>\n",
       "      <td>0.454394</td>\n",
       "      <td>1.117911</td>\n",
       "      <td>-1.781428</td>\n",
       "    </tr>\n",
       "    <tr>\n",
       "      <th>146</th>\n",
       "      <td>-0.934667</td>\n",
       "      <td>-0.190650</td>\n",
       "      <td>-0.553367</td>\n",
       "    </tr>\n",
       "    <tr>\n",
       "      <th>147</th>\n",
       "      <td>1.929511</td>\n",
       "      <td>0.927888</td>\n",
       "      <td>0.073735</td>\n",
       "    </tr>\n",
       "    <tr>\n",
       "      <th>148</th>\n",
       "      <td>-0.872532</td>\n",
       "      <td>-1.033666</td>\n",
       "      <td>1.194801</td>\n",
       "    </tr>\n",
       "    <tr>\n",
       "      <th>149</th>\n",
       "      <td>0.881319</td>\n",
       "      <td>0.226273</td>\n",
       "      <td>0.428773</td>\n",
       "    </tr>\n",
       "  </tbody>\n",
       "</table>\n",
       "<p>150 rows × 3 columns</p>\n",
       "</div>\n",
       "      <button class=\"colab-df-convert\" onclick=\"convertToInteractive('df-5760c3d3-f253-453e-ad3d-f5cf2547b28f')\"\n",
       "              title=\"Convert this dataframe to an interactive table.\"\n",
       "              style=\"display:none;\">\n",
       "        \n",
       "  <svg xmlns=\"http://www.w3.org/2000/svg\" height=\"24px\"viewBox=\"0 0 24 24\"\n",
       "       width=\"24px\">\n",
       "    <path d=\"M0 0h24v24H0V0z\" fill=\"none\"/>\n",
       "    <path d=\"M18.56 5.44l.94 2.06.94-2.06 2.06-.94-2.06-.94-.94-2.06-.94 2.06-2.06.94zm-11 1L8.5 8.5l.94-2.06 2.06-.94-2.06-.94L8.5 2.5l-.94 2.06-2.06.94zm10 10l.94 2.06.94-2.06 2.06-.94-2.06-.94-.94-2.06-.94 2.06-2.06.94z\"/><path d=\"M17.41 7.96l-1.37-1.37c-.4-.4-.92-.59-1.43-.59-.52 0-1.04.2-1.43.59L10.3 9.45l-7.72 7.72c-.78.78-.78 2.05 0 2.83L4 21.41c.39.39.9.59 1.41.59.51 0 1.02-.2 1.41-.59l7.78-7.78 2.81-2.81c.8-.78.8-2.07 0-2.86zM5.41 20L4 18.59l7.72-7.72 1.47 1.35L5.41 20z\"/>\n",
       "  </svg>\n",
       "      </button>\n",
       "      \n",
       "  <style>\n",
       "    .colab-df-container {\n",
       "      display:flex;\n",
       "      flex-wrap:wrap;\n",
       "      gap: 12px;\n",
       "    }\n",
       "\n",
       "    .colab-df-convert {\n",
       "      background-color: #E8F0FE;\n",
       "      border: none;\n",
       "      border-radius: 50%;\n",
       "      cursor: pointer;\n",
       "      display: none;\n",
       "      fill: #1967D2;\n",
       "      height: 32px;\n",
       "      padding: 0 0 0 0;\n",
       "      width: 32px;\n",
       "    }\n",
       "\n",
       "    .colab-df-convert:hover {\n",
       "      background-color: #E2EBFA;\n",
       "      box-shadow: 0px 1px 2px rgba(60, 64, 67, 0.3), 0px 1px 3px 1px rgba(60, 64, 67, 0.15);\n",
       "      fill: #174EA6;\n",
       "    }\n",
       "\n",
       "    [theme=dark] .colab-df-convert {\n",
       "      background-color: #3B4455;\n",
       "      fill: #D2E3FC;\n",
       "    }\n",
       "\n",
       "    [theme=dark] .colab-df-convert:hover {\n",
       "      background-color: #434B5C;\n",
       "      box-shadow: 0px 1px 3px 1px rgba(0, 0, 0, 0.15);\n",
       "      filter: drop-shadow(0px 1px 2px rgba(0, 0, 0, 0.3));\n",
       "      fill: #FFFFFF;\n",
       "    }\n",
       "  </style>\n",
       "\n",
       "      <script>\n",
       "        const buttonEl =\n",
       "          document.querySelector('#df-5760c3d3-f253-453e-ad3d-f5cf2547b28f button.colab-df-convert');\n",
       "        buttonEl.style.display =\n",
       "          google.colab.kernel.accessAllowed ? 'block' : 'none';\n",
       "\n",
       "        async function convertToInteractive(key) {\n",
       "          const element = document.querySelector('#df-5760c3d3-f253-453e-ad3d-f5cf2547b28f');\n",
       "          const dataTable =\n",
       "            await google.colab.kernel.invokeFunction('convertToInteractive',\n",
       "                                                     [key], {});\n",
       "          if (!dataTable) return;\n",
       "\n",
       "          const docLinkHtml = 'Like what you see? Visit the ' +\n",
       "            '<a target=\"_blank\" href=https://colab.research.google.com/notebooks/data_table.ipynb>data table notebook</a>'\n",
       "            + ' to learn more about interactive tables.';\n",
       "          element.innerHTML = '';\n",
       "          dataTable['output_type'] = 'display_data';\n",
       "          await google.colab.output.renderOutput(dataTable, element);\n",
       "          const docLink = document.createElement('div');\n",
       "          docLink.innerHTML = docLinkHtml;\n",
       "          element.appendChild(docLink);\n",
       "        }\n",
       "      </script>\n",
       "    </div>\n",
       "  </div>\n",
       "  "
      ],
      "text/plain": [
       "           x1        x2         y\n",
       "0   -0.365057 -0.319084  0.273112\n",
       "1    1.915594  0.129009  1.657577\n",
       "2   -1.416086 -0.431537 -0.553012\n",
       "3   -1.453220 -1.454493  1.455766\n",
       "4    1.301988 -0.301599  1.905186\n",
       "..        ...       ...       ...\n",
       "145  0.454394  1.117911 -1.781428\n",
       "146 -0.934667 -0.190650 -0.553367\n",
       "147  1.929511  0.927888  0.073735\n",
       "148 -0.872532 -1.033666  1.194801\n",
       "149  0.881319  0.226273  0.428773\n",
       "\n",
       "[150 rows x 3 columns]"
      ]
     },
     "execution_count": 31,
     "metadata": {},
     "output_type": "execute_result"
    }
   ],
   "source": [
    "from keras.models import Sequential  # Mengimpor modul Sequential dari Keras untuk membuat model neural network secara berurutan\n",
    "from keras.layers import Dense  # Mengimpor modul Dense dari Keras untuk menambahkan layer dense pada model neural network\n",
    "import pandas as pd  # Mengimpor Pandas sebagai pd untuk membaca file CSV\n",
    "\n",
    "df = pd.read_csv(\"Latihan01.csv\", decimal = ',')  # Membaca file CSV \"Latihan01.csv\" dan menyimpannya sebagai DataFrame df dengan menggunakan method pd.read_csv(). Parameter decimal = ',' digunakan untuk menentukan tanda desimal dalam file CSV"
   ]
  },
  {
   "cell_type": "code",
   "execution_count": 32,
   "metadata": {
    "id": "Y3gWP48ov9Rl"
   },
   "outputs": [],
   "source": [
    "data = df.values  # Mengambil nilai dari DataFrame df dengan menggunakan method values dan menyimpannya ke dalam variabel data\n",
    "batas = data.shape[0] * 7 // 10  # Menentukan batas untuk membagi data training dan data testing. 70% data digunakan untuk training dan 30% data digunakan untuk testing\n",
    "x = data[:,:2]  # Memisahkan kolom pertama dan kedua dari variabel data sebagai variabel x\n",
    "y = data[:,-1]  # Memisahkan kolom terakhir dari variabel data sebagai variabel y\n",
    "\n",
    "x_train = x[:batas]  # Memisahkan 70% data awal sebagai data training untuk variabel x dan menyimpannya ke dalam variabel x_train\n",
    "x_test = x[batas:]  # Memisahkan 30% data sisanya sebagai data testing untuk variabel x dan menyimpannya ke dalam variabel x_test\n",
    "y_train = y[:batas]  # Memisahkan 70% data awal sebagai data training untuk variabel y dan menyimpannya ke dalam variabel y_train\n",
    "y_test = y[batas:]  # Memisahkan 30% data sisanya sebagai data testing untuk variabel y dan menyimpannya ke dalam variabel y_test"
   ]
  },
  {
   "cell_type": "code",
   "execution_count": 42,
   "metadata": {
    "id": "mImR_NalxWiw"
   },
   "outputs": [],
   "source": [
    "model = Sequential()  # Membuat objek Sequential untuk menampung model neural network secara berurutan\n",
    "model.add(Dense(8,input_dim=2, activation ='relu'))  # Menambahkan layer pertama dengan 8 neuron dan input dimensi sebesar 2. Layer ini menggunakan fungsi aktivasi ReLU\n",
    "model.add(Dense(8, activation ='relu'))  # Menambahkan layer kedua dengan 8 neuron dan menggunakan fungsi aktivasi ReLU\n",
    "model.add(Dense(4, activation ='relu'))  # Menambahkan layer ketiga dengan 4 neuron dan menggunakan fungsi aktivasi ReLU\n",
    "model.add(Dense(4, activation ='relu'))  # Menambahkan layer keempat dengan 4 neuron dan menggunakan fungsi aktivasi ReLU\n",
    "model.add(Dense(1, activation ='linear'))  # Menambahkan layer kelima dengan 1 neuron dan menggunakan fungsi aktivasi linear\n",
    "model.compile(optimizer = 'adam',loss = 'mse')  # Mengkompilasi model dengan menggunakan optimizer 'adam' dan loss function 'mse'"
   ]
  },
  {
   "cell_type": "code",
   "execution_count": 43,
   "metadata": {
    "colab": {
     "base_uri": "https://localhost:8080/"
    },
    "id": "TaxtUPp7yo-I",
    "outputId": "27a371ab-5a65-4718-b7e6-87ea5d6cab9e"
   },
   "outputs": [
    {
     "name": "stdout",
     "output_type": "stream",
     "text": [
      "Epoch 1/100\n",
      "127/127 [==============================] - 1s 3ms/step - loss: 5.7044 - val_loss: 2.9277\n",
      "Epoch 2/100\n",
      "127/127 [==============================] - 0s 3ms/step - loss: 4.7627 - val_loss: 2.4402\n",
      "Epoch 3/100\n",
      "127/127 [==============================] - 0s 2ms/step - loss: 3.6541 - val_loss: 1.8418\n",
      "Epoch 4/100\n",
      "127/127 [==============================] - 0s 2ms/step - loss: 2.9364 - val_loss: 1.3346\n",
      "Epoch 5/100\n",
      "127/127 [==============================] - 0s 2ms/step - loss: 2.5596 - val_loss: 1.0734\n",
      "Epoch 6/100\n",
      "127/127 [==============================] - 0s 2ms/step - loss: 2.3343 - val_loss: 0.9282\n",
      "Epoch 7/100\n",
      "127/127 [==============================] - 0s 2ms/step - loss: 2.1954 - val_loss: 0.8548\n",
      "Epoch 8/100\n",
      "127/127 [==============================] - 0s 2ms/step - loss: 2.0884 - val_loss: 0.7935\n",
      "Epoch 9/100\n",
      "127/127 [==============================] - 0s 2ms/step - loss: 1.9921 - val_loss: 0.7370\n",
      "Epoch 10/100\n",
      "127/127 [==============================] - 0s 2ms/step - loss: 1.9000 - val_loss: 0.6857\n",
      "Epoch 11/100\n",
      "127/127 [==============================] - 0s 2ms/step - loss: 1.8137 - val_loss: 0.6380\n",
      "Epoch 12/100\n",
      "127/127 [==============================] - 0s 2ms/step - loss: 1.7321 - val_loss: 0.5913\n",
      "Epoch 13/100\n",
      "127/127 [==============================] - 0s 2ms/step - loss: 1.6529 - val_loss: 0.5500\n",
      "Epoch 14/100\n",
      "127/127 [==============================] - 0s 2ms/step - loss: 1.5773 - val_loss: 0.5136\n",
      "Epoch 15/100\n",
      "127/127 [==============================] - 0s 2ms/step - loss: 1.5056 - val_loss: 0.4762\n",
      "Epoch 16/100\n",
      "127/127 [==============================] - 0s 2ms/step - loss: 1.4365 - val_loss: 0.4449\n",
      "Epoch 17/100\n",
      "127/127 [==============================] - 0s 2ms/step - loss: 1.3723 - val_loss: 0.4167\n",
      "Epoch 18/100\n",
      "127/127 [==============================] - 0s 2ms/step - loss: 1.3114 - val_loss: 0.3850\n",
      "Epoch 19/100\n",
      "127/127 [==============================] - 0s 2ms/step - loss: 1.2534 - val_loss: 0.3609\n",
      "Epoch 20/100\n",
      "127/127 [==============================] - 0s 2ms/step - loss: 1.1974 - val_loss: 0.3339\n",
      "Epoch 21/100\n",
      "127/127 [==============================] - 0s 2ms/step - loss: 1.1437 - val_loss: 0.3078\n",
      "Epoch 22/100\n",
      "127/127 [==============================] - 0s 3ms/step - loss: 1.0951 - val_loss: 0.2827\n",
      "Epoch 23/100\n",
      "127/127 [==============================] - 0s 2ms/step - loss: 1.0476 - val_loss: 0.2614\n",
      "Epoch 24/100\n",
      "127/127 [==============================] - 0s 2ms/step - loss: 1.0013 - val_loss: 0.2416\n",
      "Epoch 25/100\n",
      "127/127 [==============================] - 0s 2ms/step - loss: 0.9584 - val_loss: 0.2239\n",
      "Epoch 26/100\n",
      "127/127 [==============================] - 0s 2ms/step - loss: 0.9185 - val_loss: 0.2082\n",
      "Epoch 27/100\n",
      "127/127 [==============================] - 0s 2ms/step - loss: 0.8798 - val_loss: 0.1940\n",
      "Epoch 28/100\n",
      "127/127 [==============================] - 0s 2ms/step - loss: 0.8434 - val_loss: 0.1849\n",
      "Epoch 29/100\n",
      "127/127 [==============================] - 0s 2ms/step - loss: 0.8106 - val_loss: 0.1674\n",
      "Epoch 30/100\n",
      "127/127 [==============================] - 0s 3ms/step - loss: 0.7779 - val_loss: 0.1591\n",
      "Epoch 31/100\n",
      "127/127 [==============================] - 0s 2ms/step - loss: 0.7485 - val_loss: 0.1458\n",
      "Epoch 32/100\n",
      "127/127 [==============================] - 0s 2ms/step - loss: 0.7196 - val_loss: 0.1358\n",
      "Epoch 33/100\n",
      "127/127 [==============================] - 0s 2ms/step - loss: 0.6935 - val_loss: 0.1279\n",
      "Epoch 34/100\n",
      "127/127 [==============================] - 0s 2ms/step - loss: 0.6670 - val_loss: 0.1170\n",
      "Epoch 35/100\n",
      "127/127 [==============================] - 0s 2ms/step - loss: 0.6432 - val_loss: 0.1112\n",
      "Epoch 36/100\n",
      "127/127 [==============================] - 0s 2ms/step - loss: 0.6199 - val_loss: 0.1046\n",
      "Epoch 37/100\n",
      "127/127 [==============================] - 0s 2ms/step - loss: 0.5979 - val_loss: 0.0967\n",
      "Epoch 38/100\n",
      "127/127 [==============================] - 0s 2ms/step - loss: 0.5778 - val_loss: 0.0906\n",
      "Epoch 39/100\n",
      "127/127 [==============================] - 0s 2ms/step - loss: 0.5582 - val_loss: 0.0873\n",
      "Epoch 40/100\n",
      "127/127 [==============================] - 0s 2ms/step - loss: 0.5396 - val_loss: 0.0781\n",
      "Epoch 41/100\n",
      "127/127 [==============================] - 0s 2ms/step - loss: 0.5211 - val_loss: 0.0744\n",
      "Epoch 42/100\n",
      "127/127 [==============================] - 0s 2ms/step - loss: 0.5039 - val_loss: 0.0680\n",
      "Epoch 43/100\n",
      "127/127 [==============================] - 0s 2ms/step - loss: 0.4875 - val_loss: 0.0652\n",
      "Epoch 44/100\n",
      "127/127 [==============================] - 0s 3ms/step - loss: 0.4710 - val_loss: 0.0588\n",
      "Epoch 45/100\n",
      "127/127 [==============================] - 0s 2ms/step - loss: 0.4558 - val_loss: 0.0549\n",
      "Epoch 46/100\n",
      "127/127 [==============================] - 0s 2ms/step - loss: 0.4411 - val_loss: 0.0518\n",
      "Epoch 47/100\n",
      "127/127 [==============================] - 0s 2ms/step - loss: 0.4267 - val_loss: 0.0475\n",
      "Epoch 48/100\n",
      "127/127 [==============================] - 0s 2ms/step - loss: 0.4137 - val_loss: 0.0449\n",
      "Epoch 49/100\n",
      "127/127 [==============================] - 0s 2ms/step - loss: 0.4008 - val_loss: 0.0422\n",
      "Epoch 50/100\n",
      "127/127 [==============================] - 0s 2ms/step - loss: 0.3885 - val_loss: 0.0398\n",
      "Epoch 51/100\n",
      "127/127 [==============================] - 0s 2ms/step - loss: 0.3766 - val_loss: 0.0372\n",
      "Epoch 52/100\n",
      "127/127 [==============================] - 0s 3ms/step - loss: 0.3644 - val_loss: 0.0338\n",
      "Epoch 53/100\n",
      "127/127 [==============================] - 0s 2ms/step - loss: 0.3527 - val_loss: 0.0313\n",
      "Epoch 54/100\n",
      "127/127 [==============================] - 0s 2ms/step - loss: 0.3423 - val_loss: 0.0305\n",
      "Epoch 55/100\n",
      "127/127 [==============================] - 0s 2ms/step - loss: 0.3339 - val_loss: 0.0312\n",
      "Epoch 56/100\n",
      "127/127 [==============================] - 0s 2ms/step - loss: 0.3222 - val_loss: 0.0260\n",
      "Epoch 57/100\n",
      "127/127 [==============================] - 0s 2ms/step - loss: 0.3134 - val_loss: 0.0279\n",
      "Epoch 58/100\n",
      "127/127 [==============================] - 0s 2ms/step - loss: 0.3044 - val_loss: 0.0217\n",
      "Epoch 59/100\n",
      "127/127 [==============================] - 0s 2ms/step - loss: 0.2932 - val_loss: 0.0195\n",
      "Epoch 60/100\n",
      "127/127 [==============================] - 0s 2ms/step - loss: 0.2831 - val_loss: 0.0184\n",
      "Epoch 61/100\n",
      "127/127 [==============================] - 0s 2ms/step - loss: 0.2747 - val_loss: 0.0182\n",
      "Epoch 62/100\n",
      "127/127 [==============================] - 0s 2ms/step - loss: 0.2662 - val_loss: 0.0151\n",
      "Epoch 63/100\n",
      "127/127 [==============================] - 0s 2ms/step - loss: 0.2584 - val_loss: 0.0182\n",
      "Epoch 64/100\n",
      "127/127 [==============================] - 0s 2ms/step - loss: 0.2511 - val_loss: 0.0143\n",
      "Epoch 65/100\n",
      "127/127 [==============================] - 0s 2ms/step - loss: 0.2427 - val_loss: 0.0116\n",
      "Epoch 66/100\n",
      "127/127 [==============================] - 0s 2ms/step - loss: 0.2354 - val_loss: 0.0097\n",
      "Epoch 67/100\n",
      "127/127 [==============================] - 0s 2ms/step - loss: 0.2277 - val_loss: 0.0137\n",
      "Epoch 68/100\n",
      "127/127 [==============================] - 0s 2ms/step - loss: 0.2206 - val_loss: 0.0091\n",
      "Epoch 69/100\n",
      "127/127 [==============================] - 0s 3ms/step - loss: 0.2138 - val_loss: 0.0093\n",
      "Epoch 70/100\n",
      "127/127 [==============================] - 0s 2ms/step - loss: 0.2089 - val_loss: 0.0082\n",
      "Epoch 71/100\n",
      "127/127 [==============================] - 0s 2ms/step - loss: 0.2009 - val_loss: 0.0061\n",
      "Epoch 72/100\n",
      "127/127 [==============================] - 0s 2ms/step - loss: 0.1943 - val_loss: 0.0042\n",
      "Epoch 73/100\n",
      "127/127 [==============================] - 0s 2ms/step - loss: 0.1886 - val_loss: 0.0050\n",
      "Epoch 74/100\n",
      "127/127 [==============================] - 0s 2ms/step - loss: 0.1833 - val_loss: 0.0044\n",
      "Epoch 75/100\n",
      "127/127 [==============================] - 0s 3ms/step - loss: 0.1774 - val_loss: 0.0039\n",
      "Epoch 76/100\n",
      "127/127 [==============================] - 0s 2ms/step - loss: 0.1725 - val_loss: 0.0024\n",
      "Epoch 77/100\n",
      "127/127 [==============================] - 0s 2ms/step - loss: 0.1678 - val_loss: 0.0193\n",
      "Epoch 78/100\n",
      "127/127 [==============================] - 0s 3ms/step - loss: 0.1655 - val_loss: 0.0097\n",
      "Epoch 79/100\n",
      "127/127 [==============================] - 0s 2ms/step - loss: 0.1579 - val_loss: 0.0023\n",
      "Epoch 80/100\n",
      "127/127 [==============================] - 0s 2ms/step - loss: 0.1514 - val_loss: 0.0022\n",
      "Epoch 81/100\n",
      "127/127 [==============================] - 0s 2ms/step - loss: 0.1471 - val_loss: 0.0016\n",
      "Epoch 82/100\n",
      "127/127 [==============================] - 0s 2ms/step - loss: 0.1420 - val_loss: 0.0020\n",
      "Epoch 83/100\n",
      "127/127 [==============================] - 0s 3ms/step - loss: 0.1375 - val_loss: 0.0020\n",
      "Epoch 84/100\n",
      "127/127 [==============================] - 0s 2ms/step - loss: 0.1332 - val_loss: 0.0021\n",
      "Epoch 85/100\n",
      "127/127 [==============================] - 0s 3ms/step - loss: 0.1288 - val_loss: 0.0024\n",
      "Epoch 86/100\n",
      "127/127 [==============================] - 0s 2ms/step - loss: 0.1244 - val_loss: 0.0012\n",
      "Epoch 87/100\n",
      "127/127 [==============================] - 0s 2ms/step - loss: 0.1213 - val_loss: 0.0043\n",
      "Epoch 88/100\n",
      "127/127 [==============================] - 0s 3ms/step - loss: 0.1189 - val_loss: 0.0016\n",
      "Epoch 89/100\n",
      "127/127 [==============================] - 0s 2ms/step - loss: 0.1128 - val_loss: 0.0016\n",
      "Epoch 90/100\n",
      "127/127 [==============================] - 0s 3ms/step - loss: 0.1090 - val_loss: 0.0016\n",
      "Epoch 91/100\n",
      "127/127 [==============================] - 0s 2ms/step - loss: 0.1061 - val_loss: 0.0020\n",
      "Epoch 92/100\n",
      "127/127 [==============================] - 0s 2ms/step - loss: 0.1018 - val_loss: 8.2400e-04\n",
      "Epoch 93/100\n",
      "127/127 [==============================] - 0s 2ms/step - loss: 0.0979 - val_loss: 0.0012\n",
      "Epoch 94/100\n",
      "127/127 [==============================] - 0s 2ms/step - loss: 0.0954 - val_loss: 0.0033\n",
      "Epoch 95/100\n",
      "127/127 [==============================] - 0s 3ms/step - loss: 0.0924 - val_loss: 0.0020\n",
      "Epoch 96/100\n",
      "127/127 [==============================] - 0s 2ms/step - loss: 0.0907 - val_loss: 0.0023\n",
      "Epoch 97/100\n",
      "127/127 [==============================] - 0s 2ms/step - loss: 0.0866 - val_loss: 0.0050\n",
      "Epoch 98/100\n",
      "127/127 [==============================] - 0s 2ms/step - loss: 0.0829 - val_loss: 0.0013\n",
      "Epoch 99/100\n",
      "127/127 [==============================] - 0s 2ms/step - loss: 0.0796 - val_loss: 0.0012\n",
      "Epoch 100/100\n",
      "127/127 [==============================] - 0s 2ms/step - loss: 0.0769 - val_loss: 0.0017\n"
     ]
    },
    {
     "data": {
      "text/plain": [
       "<keras.callbacks.History at 0x7f3d6be3ce90>"
      ]
     },
     "execution_count": 43,
     "metadata": {},
     "output_type": "execute_result"
    }
   ],
   "source": [
    "model.fit(x,y, batch_size = 1,epochs = 100,validation_split = 0.15)"
   ]
  },
  {
   "cell_type": "code",
   "execution_count": null,
   "metadata": {
    "id": "H3TrQ9Cy3BRO"
   },
   "outputs": [],
   "source": []
  },
  {
   "cell_type": "code",
   "execution_count": 44,
   "metadata": {
    "colab": {
     "base_uri": "https://localhost:8080/"
    },
    "id": "A7O1DzTizEWv",
    "outputId": "2e965989-d711-4c99-ee4a-40acd5b4605d"
   },
   "outputs": [
    {
     "name": "stdout",
     "output_type": "stream",
     "text": [
      "1/1 [==============================] - 0s 80ms/step\n"
     ]
    },
    {
     "data": {
      "text/plain": [
       "array([[ 0.06733108],\n",
       "       [-3.0079837 ]], dtype=float32)"
      ]
     },
     "execution_count": 44,
     "metadata": {},
     "output_type": "execute_result"
    }
   ],
   "source": [
    "model.predict([[2,1],\n",
    "               [1,2]])"
   ]
  },
  {
   "cell_type": "code",
   "execution_count": 45,
   "metadata": {
    "id": "6o7LtCzb3HY5"
   },
   "outputs": [],
   "source": [
    "model.save_weights(\"ayam.h5\")"
   ]
  },
  {
   "cell_type": "code",
   "execution_count": 46,
   "metadata": {
    "id": "1OZ7QEtO34mn"
   },
   "outputs": [],
   "source": [
    "model.load_weights('ayam.h5')"
   ]
  },
  {
   "cell_type": "code",
   "execution_count": 47,
   "metadata": {
    "colab": {
     "base_uri": "https://localhost:8080/"
    },
    "id": "AdZlQm3e4Z9P",
    "outputId": "2c251bef-7ca9-4310-87b4-832df7178df3"
   },
   "outputs": [
    {
     "name": "stdout",
     "output_type": "stream",
     "text": [
      "1/1 [==============================] - 0s 35ms/step\n"
     ]
    },
    {
     "data": {
      "text/plain": [
       "array([[-1.006033 ],\n",
       "       [-2.0060077]], dtype=float32)"
      ]
     },
     "execution_count": 47,
     "metadata": {},
     "output_type": "execute_result"
    }
   ],
   "source": [
    "model.predict([[1,1],\n",
    "               [0,1]])"
   ]
  },
  {
   "cell_type": "code",
   "execution_count": 51,
   "metadata": {
    "colab": {
     "base_uri": "https://localhost:8080/"
    },
    "id": "LfY4_pfj9aju",
    "outputId": "8cb7949a-ed76-4117-8fdc-43a6f418a73d"
   },
   "outputs": [
    {
     "name": "stdout",
     "output_type": "stream",
     "text": [
      "Initialised with 1 image(s) found.\n",
      "Output directory set to air/.."
     ]
    },
    {
     "name": "stderr",
     "output_type": "stream",
     "text": [
      "Processing <PIL.Image.Image image mode=RGB size=100x100 at 0x7F3D6838ECD0>: 100%|██████████| 300/300 [00:12<00:00, 24.06 Samples/s]\n"
     ]
    },
    {
     "name": "stdout",
     "output_type": "stream",
     "text": [
      "Initialised with 1 image(s) found.\n",
      "Output directory set to tanah/.."
     ]
    },
    {
     "name": "stderr",
     "output_type": "stream",
     "text": [
      "Processing <PIL.Image.Image image mode=RGB size=100x100 at 0x7F3D683D1050>: 100%|██████████| 300/300 [00:12<00:00, 23.65 Samples/s]\n"
     ]
    },
    {
     "name": "stdout",
     "output_type": "stream",
     "text": [
      "Initialised with 1 image(s) found.\n",
      "Output directory set to lumpur/.."
     ]
    },
    {
     "name": "stderr",
     "output_type": "stream",
     "text": [
      "Processing <PIL.Image.Image image mode=RGB size=100x100 at 0x7F3D6843C250>: 100%|██████████| 300/300 [00:14<00:00, 20.46 Samples/s]\n"
     ]
    }
   ],
   "source": [
    "#Augmentasi gambar\n",
    "import Augmentor\n",
    "def berkembang_biak(sumber,sebanyak):\n",
    "  p = Augmentor.Pipeline(sumber, '.') \n",
    "  p.random_distortion(1,4,4,1)\n",
    "  p.rotate(0.9,13,13)\n",
    "  p.zoom_random(0.9,0.7)\n",
    "  p.resize(1,100,100)\n",
    "  p.sample(sebanyak)\n",
    "\n",
    "berkembang_biak(\"air\",300)\n",
    "berkembang_biak(\"tanah\",300)\n",
    "berkembang_biak(\"lumpur\",300)"
   ]
  },
  {
   "cell_type": "code",
   "execution_count": 56,
   "metadata": {
    "colab": {
     "base_uri": "https://localhost:8080/",
     "height": 286
    },
    "id": "T6XFds9h_O53",
    "outputId": "ab7452c8-c3d9-44d0-b388-5f2dc53300da"
   },
   "outputs": [
    {
     "data": {
      "text/plain": [
       "<matplotlib.image.AxesImage at 0x7f3d561d2dd0>"
      ]
     },
     "execution_count": 56,
     "metadata": {},
     "output_type": "execute_result"
    },
    {
     "data": {
      "image/png": "[encoded data removed]",
      "text/plain": [
       "<Figure size 432x288 with 1 Axes>"
      ]
     },
     "metadata": {
      "needs_background": "light"
     },
     "output_type": "display_data"
    }
   ],
   "source": [
    "import cv2\n",
    "import matplotlib.pyplot as plt\n",
    "\n",
    "gambar = cv2.imread(\"/content/air/T_Air.jpg\")\n",
    "plt.imshow(gambar)"
   ]
  },
  {
   "cell_type": "code",
   "execution_count": 103,
   "metadata": {
    "id": "AQyjM9LeDh7Q"
   },
   "outputs": [],
   "source": [
    "import glob\n",
    "\n",
    "x = []\n",
    "y = []\n",
    "\n",
    "for nama_file in glob.glob('air/*.jpg'):\n",
    "  gambar = cv2.imread(nama_file)\n",
    "  gambar = cv2.resize(gambar,(100,100))/255\n",
    "  x.append(gambar)\n",
    "  y.append(0)\n",
    "\n",
    "for nama_file in glob.glob('tanah/*.jpg'):\n",
    "  gambar = cv2.imread(nama_file)\n",
    "  gambar = cv2.resize(gambar,(100,100))/255\n",
    "  x.append(gambar)\n",
    "  y.append(1)\n",
    "\n",
    "for nama_file in glob.glob('lumpur/*.jpg'):\n",
    "  gambar = cv2.imread(nama_file)\n",
    "  gambar = cv2.resize(gambar,(100,100))/255\n",
    "  x.append(gambar)\n",
    "  y.append(2)"
   ]
  },
  {
   "cell_type": "code",
   "execution_count": 104,
   "metadata": {
    "id": "9cR50aUcEyHx"
   },
   "outputs": [],
   "source": [
    "import random\n",
    "import numpy as np\n",
    "\n",
    "z =list(zip(x,y))\n",
    "random.shuffle(z)\n",
    "x,y = zip(*z)\n",
    "x = np.array(x)\n",
    "y = np.array(y)"
   ]
  },
  {
   "cell_type": "code",
   "execution_count": 105,
   "metadata": {
    "colab": {
     "base_uri": "https://localhost:8080/"
    },
    "id": "FN0hgS5zJNBA",
    "outputId": "4b94653e-117d-4fdd-ac84-ab2833d67624"
   },
   "outputs": [
    {
     "name": "stdout",
     "output_type": "stream",
     "text": [
      "Model: \"sequential_13\"\n",
      "_________________________________________________________________\n",
      " Layer (type)                Output Shape              Param #   \n",
      "=================================================================\n",
      " conv2d_15 (Conv2D)          (None, 98, 98, 8)         224       \n",
      "                                                                 \n",
      " max_pooling2d_11 (MaxPoolin  (None, 49, 49, 8)        0         \n",
      " g2D)                                                            \n",
      "                                                                 \n",
      " conv2d_16 (Conv2D)          (None, 47, 47, 16)        1168      \n",
      "                                                                 \n",
      " max_pooling2d_12 (MaxPoolin  (None, 23, 23, 16)       0         \n",
      " g2D)                                                            \n",
      "                                                                 \n",
      " conv2d_17 (Conv2D)          (None, 21, 21, 32)        4640      \n",
      "                                                                 \n",
      " max_pooling2d_13 (MaxPoolin  (None, 10, 10, 32)       0         \n",
      " g2D)                                                            \n",
      "                                                                 \n",
      " flatten_5 (Flatten)         (None, 3200)              0         \n",
      "                                                                 \n",
      " dense_32 (Dense)            (None, 100)               320100    \n",
      "                                                                 \n",
      " dense_33 (Dense)            (None, 3)                 303       \n",
      "                                                                 \n",
      "=================================================================\n",
      "Total params: 326,435\n",
      "Trainable params: 326,435\n",
      "Non-trainable params: 0\n",
      "_________________________________________________________________\n"
     ]
    }
   ],
   "source": [
    "from keras.layers import Flatten,Conv2D, MaxPooling2D,Dense\n",
    "model = Sequential()\n",
    "model.add(Conv2D(8,(3,3),input_shape=(100,100,3),activation = 'relu'))\n",
    "model.add(MaxPooling2D(2,2))\n",
    "model.add(Conv2D(16,(3,3),activation = 'relu'))\n",
    "model.add(MaxPooling2D(2,2))\n",
    "model.add(Conv2D(32,(3,3),activation = 'relu'))\n",
    "model.add(MaxPooling2D(2,2))\n",
    "model.add(Flatten())\n",
    "model.add(Dense(100,activation = 'relu'))\n",
    "model.add(Dense(3,activation = 'softmax'))\n",
    "model.compile(optimizer = 'adam',loss='sparse_categorical_crossentropy',metrics=[\"accuracy\"])\n",
    "model.summary()\n",
    "\n",
    "\n",
    "\n"
   ]
  },
  {
   "cell_type": "code",
   "execution_count": 106,
   "metadata": {
    "colab": {
     "base_uri": "https://localhost:8080/"
    },
    "id": "9H2RkQ0mNZd0",
    "outputId": "5409e80d-7ad6-4a83-f775-1b4f16db68e6"
   },
   "outputs": [
    {
     "name": "stdout",
     "output_type": "stream",
     "text": [
      "Epoch 1/8\n",
      "406/406 [==============================] - 10s 22ms/step - loss: 0.4602 - accuracy: 0.7968 - val_loss: 0.1816 - val_accuracy: 0.9231\n",
      "Epoch 2/8\n",
      "406/406 [==============================] - 9s 22ms/step - loss: 0.0842 - accuracy: 0.9754 - val_loss: 0.0438 - val_accuracy: 0.9780\n",
      "Epoch 3/8\n",
      "406/406 [==============================] - 9s 22ms/step - loss: 0.0338 - accuracy: 0.9914 - val_loss: 0.0946 - val_accuracy: 0.9670\n",
      "Epoch 4/8\n",
      "406/406 [==============================] - 9s 22ms/step - loss: 0.0061 - accuracy: 0.9988 - val_loss: 0.1585 - val_accuracy: 0.9231\n",
      "Epoch 5/8\n",
      "406/406 [==============================] - 9s 22ms/step - loss: 0.0668 - accuracy: 0.9778 - val_loss: 0.0882 - val_accuracy: 0.9780\n",
      "Epoch 6/8\n",
      "406/406 [==============================] - 9s 22ms/step - loss: 0.0592 - accuracy: 0.9803 - val_loss: 0.0887 - val_accuracy: 0.9780\n",
      "Epoch 7/8\n",
      "406/406 [==============================] - 10s 25ms/step - loss: 0.0018 - accuracy: 1.0000 - val_loss: 0.0658 - val_accuracy: 0.9780\n",
      "Epoch 8/8\n",
      "406/406 [==============================] - 10s 24ms/step - loss: 1.5710e-04 - accuracy: 1.0000 - val_loss: 0.0685 - val_accuracy: 0.9780\n"
     ]
    },
    {
     "data": {
      "text/plain": [
       "<keras.callbacks.History at 0x7f3d53f68a90>"
      ]
     },
     "execution_count": 106,
     "metadata": {},
     "output_type": "execute_result"
    }
   ],
   "source": [
    "model.fit(x,y, batch_size = 2,epochs = 8,validation_split = 0.1)"
   ]
  },
  {
   "cell_type": "code",
   "execution_count": 110,
   "metadata": {
    "colab": {
     "base_uri": "https://localhost:8080/"
    },
    "id": "oZyiEimLOlnu",
    "outputId": "f5852793-a9e1-4e81-e8f3-4ec57f1f0e88"
   },
   "outputs": [
    {
     "name": "stdout",
     "output_type": "stream",
     "text": [
      "1/1 [==============================] - 0s 25ms/step\n"
     ]
    },
    {
     "data": {
      "text/plain": [
       "array([2])"
      ]
     },
     "execution_count": 110,
     "metadata": {},
     "output_type": "execute_result"
    }
   ],
   "source": [
    "x_test = []\n",
    "gambar = cv2.imread(\"/content/lumpur/lumpur_original_T_Lumpur.jpg_0025228a-8196-4e39-a38f-c92c2a845863.jpg\")\n",
    "gambar = cv2.resize(gambar,(100,100))/255\n",
    "x_test.append(gambar)\n",
    "\n",
    "y_pred = model.predict(np.asarray(x_test))\n",
    "y_pred = np.argmax(y_pred,axis = 1)\n",
    "y_pred"
   ]
  }
 ],
 "metadata": {
  "colab": {
   "collapsed_sections": [],
   "provenance": []
  },
  "kernelspec": {
   "display_name": "Python 3 (ipykernel)",
   "language": "python",
   "name": "python3"
  },
  "language_info": {
   "codemirror_mode": {
    "name": "ipython",
    "version": 3
   },
   "file_extension": ".py",
   "mimetype": "text/x-python",
   "name": "python",
   "nbconvert_exporter": "python",
   "pygments_lexer": "ipython3",
   "version": "3.11.1"
  }
 },
 "nbformat": 4,
 "nbformat_minor": 1
}
